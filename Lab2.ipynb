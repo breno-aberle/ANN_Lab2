{
 "cells": [
  {
   "cell_type": "markdown",
   "metadata": {},
   "source": [
    "# Lab 1\n",
    "\n",
    "In this notebook the following networks are implemented:\n",
    "* radial basis function\n",
    "* self organising maps"
   ]
  },
  {
   "cell_type": "markdown",
   "metadata": {},
   "source": [
    "**Imports**"
   ]
  },
  {
   "cell_type": "code",
   "execution_count": 72,
   "metadata": {
    "ExecuteTime": {
     "end_time": "2020-01-29T23:05:09.280043Z",
     "start_time": "2020-01-29T23:05:09.219528Z"
    }
   },
   "outputs": [
    {
     "name": "stdout",
     "output_type": "stream",
     "text": [
      "The autoreload extension is already loaded. To reload it, use:\n",
      "  %reload_ext autoreload\n"
     ]
    }
   ],
   "source": [
    "%load_ext autoreload\n",
    "%autoreload 2\n",
    "\n",
    "import numpy as np\n",
    "import math\n",
    "from scipy import signal\n",
    "import matplotlib.pyplot as plt\n",
    "from lab2_utils import RBF, cl_competitive, SOM\n",
    "from sklearn.neural_network import MLPRegressor\n",
    "import os \n",
    "import pandas as pd\n",
    "from numpy.linalg import norm"
   ]
  },
  {
   "cell_type": "code",
   "execution_count": 73,
   "metadata": {
    "ExecuteTime": {
     "end_time": "2020-01-29T14:33:45.687853Z",
     "start_time": "2020-01-29T14:33:45.430054Z"
    }
   },
   "outputs": [],
   "source": [
    "data_set_path = '/Users/brenoaberle/Documents/KTH/Artificial_Neural_Networks_and_Deep_Architectures/Assignments/Lab2/data_lab2/'"
   ]
  },
  {
   "cell_type": "markdown",
   "metadata": {
    "heading_collapsed": true
   },
   "source": [
    "## Part I: Radial Basis Function"
   ]
  },
  {
   "cell_type": "markdown",
   "metadata": {
    "hidden": true
   },
   "source": [
    "### Batch mode training using least squares - supervised learning of network weights\n",
    "\n",
    "Build an RBF network to solve a regression problem with batch learning. Functions to approximate are:\n",
    "* sin(2x)\n",
    "* square(2x) (square is a rect- angular curve serving as a \"box\" envelope for the sine wave, i.e. it is 1 for arguments where the sin>=0 and -1 otherwise)\n",
    "\n",
    " "
   ]
  },
  {
   "cell_type": "markdown",
   "metadata": {
    "hidden": true
   },
   "source": [
    "#### Data set creation\n",
    "Dataset in the interval [0,2π] "
   ]
  },
  {
   "cell_type": "code",
   "execution_count": 74,
   "metadata": {
    "ExecuteTime": {
     "end_time": "2020-01-29T17:57:30.897758Z",
     "start_time": "2020-01-29T17:57:30.857600Z"
    },
    "hidden": true
   },
   "outputs": [],
   "source": [
    "# Training\n",
    "x_train = np.arange(0, 2 * math.pi, 0.1)\n",
    "y_sin_train = np.sin(2 * x_train)\n",
    "y_square_train = signal.square(2 * x_train)\n",
    "\n",
    "# Test\n",
    "x_test = np.arange(0.05, 2 * math.pi, 0.1)\n",
    "y_sin_test = np.sin(2 * x_test)\n",
    "y_square_test = signal.square(2 * x_test)"
   ]
  },
  {
   "cell_type": "code",
   "execution_count": 75,
   "metadata": {
    "ExecuteTime": {
     "end_time": "2020-01-29T17:57:31.829278Z",
     "start_time": "2020-01-29T17:57:31.422419Z"
    },
    "hidden": true
   },
   "outputs": [
    {
     "data": {
      "text/plain": [
       "<matplotlib.legend.Legend at 0x1c22d0fd90>"
      ]
     },
     "execution_count": 75,
     "metadata": {},
     "output_type": "execute_result"
    },
    {
     "data": {
      "image/png": "[encoded data removed]",
      "text/plain": [
       "<Figure size 432x288 with 1 Axes>"
      ]
     },
     "metadata": {
      "needs_background": "light"
     },
     "output_type": "display_data"
    }
   ],
   "source": [
    "plt.plot(x_train, y_sin_train,'r.', label=\"Train: sin(2x)\")\n",
    "plt.plot(x_test, y_sin_test,'g.', label=\"Test: sin(2x)\")\n",
    "plt.plot(x_train, y_square_train, 'b.', label=\"Train: square(2x)\")\n",
    "plt.plot(x_test, y_square_test, 'y.', label=\"Test: square(2x)\")\n",
    "plt.xlabel(\"x\")\n",
    "plt.ylabel(\"y\")\n",
    "plt.title(\"Dataset\")\n",
    "plt.legend()"
   ]
  },
  {
   "cell_type": "markdown",
   "metadata": {
    "ExecuteTime": {
     "end_time": "2020-01-28T23:50:18.870654Z",
     "start_time": "2020-01-28T23:50:18.763111Z"
    },
    "hidden": true
   },
   "source": [
    "#### RBF, varrying number of units\n",
    "Try to vary the number of units to obtain the absolute residual error below 0.1, 0.01 and 0.001 in the residual value Please discuss the results, how many units are needed for the aforementioned error thresholds?"
   ]
  },
  {
   "cell_type": "markdown",
   "metadata": {
    "hidden": true
   },
   "source": [
    "For the Sinus Function (with sigma=1) we need : \n",
    "* at least 6 nodes for error < 0.1\n",
    "* at least 11 nodes for error < 0.01\n",
    "* at least 13 nodes for error < 0.001\n",
    "\n",
    "For the Square Function (with sigma=0.09) we need : \n",
    "* at least 200 nodes for error < 0.1\n",
    "* didn't get a smaller error than 0.1\n",
    "\n",
    "-> Rectangular Function are hard for rbfs"
   ]
  },
  {
   "cell_type": "code",
   "execution_count": 76,
   "metadata": {
    "ExecuteTime": {
     "end_time": "2020-01-29T17:57:33.218580Z",
     "start_time": "2020-01-29T17:57:33.116648Z"
    },
    "hidden": true,
    "scrolled": true
   },
   "outputs": [],
   "source": [
    "mus = [0,0.2, 0.9, 1.4, 1.7, 2.2, 3, 3.5, 4.2, 4.5, 4.9, 5.5, 6.1 ]\n",
    "\n",
    "rbf_sin = RBF(num_nodes=13, sigma=1, mus=mus)\n",
    "rbf_sin.fit(x_train, y_sin_train)\n",
    "\n",
    "rbf_square = RBF(num_nodes=13, sigma=1.5, mus=mus)\n",
    "rbf_square.fit(x_train, y_square_train)"
   ]
  },
  {
   "cell_type": "code",
   "execution_count": 77,
   "metadata": {
    "ExecuteTime": {
     "end_time": "2020-01-29T17:57:33.941018Z",
     "start_time": "2020-01-29T17:57:33.851131Z"
    },
    "hidden": true
   },
   "outputs": [
    {
     "name": "stdout",
     "output_type": "stream",
     "text": [
      "Error for Sin function is:   9.849700659006246e-05\n",
      "Error for Square function is:   0.26373436108290677\n"
     ]
    }
   ],
   "source": [
    "output_sin = rbf_sin.predict(x_test)\n",
    "print('Error for Sin function is:  ', np.mean(abs(y_sin_test - output_sin)))\n",
    "output_square = rbf_square.predict(x_test)\n",
    "print('Error for Square function is:  ', np.mean(abs(y_square_test - output_square)))"
   ]
  },
  {
   "cell_type": "code",
   "execution_count": 78,
   "metadata": {
    "ExecuteTime": {
     "end_time": "2020-01-29T17:57:35.165510Z",
     "start_time": "2020-01-29T17:57:34.806956Z"
    },
    "hidden": true
   },
   "outputs": [
    {
     "data": {
      "text/plain": [
       "<matplotlib.legend.Legend at 0x10d1a8450>"
      ]
     },
     "execution_count": 78,
     "metadata": {},
     "output_type": "execute_result"
    },
    {
     "data": {
      "image/png": "[encoded data removed]",
      "text/plain": [
       "<Figure size 432x288 with 1 Axes>"
      ]
     },
     "metadata": {
      "needs_background": "light"
     },
     "output_type": "display_data"
    }
   ],
   "source": [
    "plt.plot(x_test, output_sin,'r', label=\"Predicted: sin(2x)\")\n",
    "plt.plot(x_test, y_sin_test,'g.', label=\"Target: sin(2x)\")\n",
    "plt.plot(x_test, output_square, 'b', label=\"Predicted: square(2x)\")\n",
    "plt.plot(x_test, y_square_test, 'y.', label=\"Target: square(2x)\")\n",
    "plt.xlabel(\"x\")\n",
    "plt.ylabel(\"y\")\n",
    "plt.title(\"Dataset\")\n",
    "plt.legend()"
   ]
  },
  {
   "cell_type": "markdown",
   "metadata": {
    "hidden": true
   },
   "source": [
    "#### Function on Square output\n",
    "How can you simply transform the output of your RBF network to reduce the residual error to 0 for the square(2x) problem? Still, how many units do you need? In what type of applications could this transform be particularly useful?\n",
    "\n",
    "Transform by Threshold function: \n",
    "f(output) =1 if x>=0,else -1\n",
    "\n",
    "For the Square Function we need : \n",
    "* 5 nodes and sigma of 1.4 for error < 0.1\n",
    "* 10 nodes and a sigma of 0.9 to achieve an error of 0\n",
    "\n",
    "-> transformation useful for rectangular functions\n"
   ]
  },
  {
   "cell_type": "code",
   "execution_count": 79,
   "metadata": {
    "ExecuteTime": {
     "end_time": "2020-01-29T17:57:38.575480Z",
     "start_time": "2020-01-29T17:57:38.125269Z"
    },
    "hidden": true
   },
   "outputs": [
    {
     "name": "stdout",
     "output_type": "stream",
     "text": [
      "Error for transformed square function is:   0.0\n"
     ]
    },
    {
     "data": {
      "text/plain": [
       "<matplotlib.legend.Legend at 0x1c22eb80d0>"
      ]
     },
     "execution_count": 79,
     "metadata": {},
     "output_type": "execute_result"
    },
    {
     "data": {
      "image/png": "[encoded data removed]",
      "text/plain": [
       "<Figure size 432x288 with 1 Axes>"
      ]
     },
     "metadata": {
      "needs_background": "light"
     },
     "output_type": "display_data"
    }
   ],
   "source": [
    "rbf_square = RBF(num_nodes=10, sigma=0.9)\n",
    "rbf_square.fit(x_train, y_square_train)\n",
    "output_square = rbf_square.predict(x_test)\n",
    "new_output = list(map(lambda x: 1 if x>=0 else -1, output_square))\n",
    "print('Error for transformed square function is:  ', np.mean(abs(y_square_test - new_output)))\n",
    "plt.plot(x_test, new_output, 'b', label=\"Predicted: square(2x)\")\n",
    "plt.plot(x_test,  y_square_test, 'y.', label=\"Target: square(2x)\")\n",
    "plt.xlabel(\"x\")\n",
    "plt.ylabel(\"y\")\n",
    "plt.title(\"Dataset\")\n",
    "plt.legend()"
   ]
  },
  {
   "cell_type": "markdown",
   "metadata": {
    "hidden": true
   },
   "source": [
    "### Regression with noise\n",
    "new data creation with Gaussian noise"
   ]
  },
  {
   "cell_type": "markdown",
   "metadata": {
    "hidden": true
   },
   "source": [
    "#### Data set creation\n",
    "Dataset as in 3.1 but with zero-mean Gaussian noise with the variance of 0.1 added in the interval [0,2π] "
   ]
  },
  {
   "cell_type": "code",
   "execution_count": 80,
   "metadata": {
    "ExecuteTime": {
     "end_time": "2020-01-29T17:57:53.392462Z",
     "start_time": "2020-01-29T17:57:53.342288Z"
    },
    "hidden": true
   },
   "outputs": [],
   "source": [
    "# Training\n",
    "y_sin_train_noisy = y_sin_train + np.random.normal(0, 0.1, len(x_train))\n",
    "y_square_train_noisy = y_square_train + np.random.normal(0, 0.1, len(x_train))\n",
    "\n",
    "# Test\n",
    "y_sin_test_noisy = y_sin_test + np.random.normal(0, 0.1, len(x_train))\n",
    "y_square_test_noisy = y_square_test + np.random.normal(0, 0.1, len(x_train))"
   ]
  },
  {
   "cell_type": "code",
   "execution_count": 81,
   "metadata": {
    "ExecuteTime": {
     "end_time": "2020-01-29T17:57:54.463698Z",
     "start_time": "2020-01-29T17:57:54.129328Z"
    },
    "hidden": true
   },
   "outputs": [
    {
     "data": {
      "text/plain": [
       "<matplotlib.legend.Legend at 0x1c22ef3050>"
      ]
     },
     "execution_count": 81,
     "metadata": {},
     "output_type": "execute_result"
    },
    {
     "data": {
      "image/png": "[encoded data removed]",
      "text/plain": [
       "<Figure size 432x288 with 1 Axes>"
      ]
     },
     "metadata": {
      "needs_background": "light"
     },
     "output_type": "display_data"
    }
   ],
   "source": [
    "plt.plot(x_train, y_sin_train_noisy, \"r.\", label=\"Train: sin(2x)\")\n",
    "plt.plot(x_test, y_square_train_noisy, \"g.\", label=\"Test: sin(2x)\")\n",
    "plt.plot(x_train, y_sin_test_noisy, \"b.\", label=\"Train: square(2x)\")\n",
    "plt.plot(x_test, y_square_test_noisy, \"y.\", label=\"Test: square(2x)\")\n",
    "plt.xlabel(\"x\")\n",
    "plt.ylabel(\"y\")\n",
    "plt.title(\"Dataset\")\n",
    "plt.legend()"
   ]
  },
  {
   "cell_type": "markdown",
   "metadata": {
    "hidden": true
   },
   "source": [
    "#### Width and Units Effect"
   ]
  },
  {
   "cell_type": "markdown",
   "metadata": {
    "hidden": true
   },
   "source": [
    "*Compare the effect of the number of RBF units and their width for the two learning approaches. Which error estimate should you choose as the criterion for these comparative analyses?*\n",
    "\n",
    "---\n",
    "\n",
    "Observations for online: \n",
    "* number of nodes must be more than with batch\n",
    "* a lot of iteration needed\n",
    "* width works as for batch learning\n",
    "\n",
    "Observations for batch:\n",
    "* works as without noise -> the width should be around 1 and the more number of nodes the better the algorithm performes\n",
    "\n",
    "Error used in this case again the mean absolute error"
   ]
  },
  {
   "cell_type": "markdown",
   "metadata": {
    "hidden": true
   },
   "source": [
    "*What are the main effects of changing the width of RBFs?*\n",
    "\n",
    "---\n",
    "\n",
    "* Error varies\n",
    "* smaller width needs more num_nodes\n",
    "* width decide over the best accuracy"
   ]
  },
  {
   "cell_type": "code",
   "execution_count": 82,
   "metadata": {
    "ExecuteTime": {
     "end_time": "2020-01-29T17:58:29.561541Z",
     "start_time": "2020-01-29T17:58:29.446669Z"
    },
    "hidden": true
   },
   "outputs": [
    {
     "name": "stdout",
     "output_type": "stream",
     "text": [
      "The error for Sin function in batch learning with noisy data is:  0.09528466375263592\n"
     ]
    }
   ],
   "source": [
    "rbf_sin_batch = RBF(num_nodes=13, sigma=1)\n",
    "rbf_sin_batch.fit(x_train, y_sin_train_noisy)\n",
    "output_sin_batch = rbf_sin_batch.predict(x_test)\n",
    "print('The error for Sin function in batch learning with noisy data is: ', np.mean(abs(y_sin_test_noisy - output_sin_batch)))"
   ]
  },
  {
   "cell_type": "code",
   "execution_count": 83,
   "metadata": {
    "ExecuteTime": {
     "end_time": "2020-01-29T18:01:42.710728Z",
     "start_time": "2020-01-29T17:58:30.000217Z"
    },
    "hidden": true
   },
   "outputs": [
    {
     "name": "stdout",
     "output_type": "stream",
     "text": [
      "The error for Sin function in online learning with noisy data is:  0.11882170429498351\n"
     ]
    }
   ],
   "source": [
    "rbf_sin_online = RBF(num_nodes=40, sigma=1)\n",
    "rbf_sin_online.fit_delta(x_train, y_sin_train_noisy, num_epochs=2000)\n",
    "output_sin_online = rbf_sin_online.predict(x_test)\n",
    "print('The error for Sin function in online learning with noisy data is: ', np.mean(abs(y_sin_test_noisy - output_sin_online)))"
   ]
  },
  {
   "cell_type": "code",
   "execution_count": 84,
   "metadata": {
    "ExecuteTime": {
     "end_time": "2020-01-29T18:01:43.489749Z",
     "start_time": "2020-01-29T18:01:42.716164Z"
    },
    "hidden": true
   },
   "outputs": [
    {
     "data": {
      "text/plain": [
       "<matplotlib.legend.Legend at 0x1c230bb190>"
      ]
     },
     "execution_count": 84,
     "metadata": {},
     "output_type": "execute_result"
    },
    {
     "data": {
      "image/png": "[encoded data removed]",
      "text/plain": [
       "<Figure size 432x288 with 1 Axes>"
      ]
     },
     "metadata": {
      "needs_background": "light"
     },
     "output_type": "display_data"
    }
   ],
   "source": [
    "plt.plot(x_test, output_sin_batch,'r', label=\"Predicted batch: sin(2x)\")\n",
    "plt.plot(x_test, y_sin_test_noisy ,'g.', label=\"Target: sin(2x)\")\n",
    "plt.plot(x_test, output_sin_online, 'b', label=\"Predicted online: square(2x)\")\n",
    "plt.xlabel(\"x\")\n",
    "plt.ylabel(\"y\")\n",
    "plt.title(\"Dataset\")\n",
    "plt.legend()"
   ]
  },
  {
   "cell_type": "markdown",
   "metadata": {
    "hidden": true
   },
   "source": [
    "#### Learning Rate"
   ]
  },
  {
   "cell_type": "markdown",
   "metadata": {
    "hidden": true
   },
   "source": [
    "*What can you say about the rate of convergence and its dependence on the learning rate, eta, for the two learning schemes?*\n",
    "\n",
    "For batch: \n",
    "* Coverges directly no learning rate needed\n",
    "\n",
    "For online: \n",
    "* takes at least 20 epochs to converge\n",
    "* learning rate optimal with 0.1 / 0.01"
   ]
  },
  {
   "cell_type": "code",
   "execution_count": 88,
   "metadata": {
    "ExecuteTime": {
     "end_time": "2020-01-29T18:01:55.650645Z",
     "start_time": "2020-01-29T18:01:43.495434Z"
    },
    "hidden": true
   },
   "outputs": [
    {
     "data": {
      "text/plain": [
       "<matplotlib.legend.Legend at 0x1c23342110>"
      ]
     },
     "execution_count": 88,
     "metadata": {},
     "output_type": "execute_result"
    },
    {
     "data": {
      "image/png": "[encoded data removed]",
      "text/plain": [
       "<Figure size 432x288 with 1 Axes>"
      ]
     },
     "metadata": {
      "needs_background": "light"
     },
     "output_type": "display_data"
    }
   ],
   "source": [
    "learning_rates = [0.1,0.01, 0.001, 0.0001]\n",
    "num_epochs = 30\n",
    "for lr in learning_rates:\n",
    "    rbf_sin_online = RBF(num_nodes=30, sigma=0.9)\n",
    "    err_scores = rbf_sin_online.fit_delta(\n",
    "        x_train, y_sin_train_noisy, learning_rate=lr, num_epochs=num_epochs, error_scores=True\n",
    "    )\n",
    "    plt.plot(np.arange(0,num_epochs,1), err_scores, label=\"lr: {}\".format(lr))\n",
    "plt.xlabel(\"num epochs\")\n",
    "plt.ylabel(\"mse\")\n",
    "plt.title(\"Rate of Convergence depending on Learning rate\")\n",
    "plt.legend()"
   ]
  },
  {
   "cell_type": "markdown",
   "metadata": {
    "hidden": true
   },
   "source": [
    "#### Positioning of RBF Nodes"
   ]
  },
  {
   "cell_type": "markdown",
   "metadata": {
    "hidden": true
   },
   "source": [
    "How important is the positioning of the RBF nodes in the input space? What strategy did you choose? Is it better than random positioning of the RBF nodes? Please support your conclusions with quantitative evidence (e.g., error comparison).\n",
    "\n",
    "---\n",
    "\n",
    "Strategies: \n",
    "* at all turnpoints/max/minima\n",
    "* only maxima/minima\n",
    "* random\n",
    "\n",
    "-> Random positioning works slightly better\n",
    "-> The more nodes the better is random"
   ]
  },
  {
   "cell_type": "markdown",
   "metadata": {
    "hidden": true
   },
   "source": [
    "Also, for the same network models estimate their test performance on the original clean data used in section 3.1 (a corresponding test subset but without noise) and compare your Findings.\n",
    "\n",
    "---\n",
    "-> Around the same error as with noise"
   ]
  },
  {
   "cell_type": "code",
   "execution_count": 86,
   "metadata": {
    "ExecuteTime": {
     "end_time": "2020-01-29T18:01:57.613975Z",
     "start_time": "2020-01-29T18:01:55.655663Z"
    },
    "hidden": true
   },
   "outputs": [
    {
     "name": "stdout",
     "output_type": "stream",
     "text": [
      "at all turnpoints/max/minima (8 nodes):\n",
      "The error for Sin function in online learning with noisy data is:  0.6203026557120319\n",
      "The error for Sin function in online learning without noisy data is:  0.6122295465309904\n",
      "max/minima (4 nodes):\n",
      "The error for Sin function in online learning with noisy data is:  0.34006223715128253\n",
      "The error for Sin function in online learning without noisy data is:  0.33445789591374253\n",
      "random (8 nodes):\n",
      "The error for Sin function in online learning with noisy data is:  0.49100199592958155\n",
      "The error for Sin function in online learning without noisy data is:  0.48984340915298324\n",
      "random (4 nodes):\n",
      "The error for Sin function in online learning with noisy data is:  0.5087668530194118\n",
      "The error for Sin function in online learning without noisy data is:  0.500134988044497\n"
     ]
    }
   ],
   "source": [
    "# at all turnpoints/max/minima\n",
    "rbf_sin_all = RBF(num_nodes=8, sigma=1, mus=[0., 0.8, 1.6, 2.4, 3.1, 3.9, 4.7, 5.5])\n",
    "rbf_sin_all.fit_delta(x_train, y_sin_train_noisy, num_epochs=30, learning_rate=0.01)\n",
    "output_sin_all = rbf_sin_online.predict(x_test)\n",
    "print('at all turnpoints/max/minima (8 nodes):')\n",
    "print('The error for Sin function in online learning with noisy data is: ', np.mean(abs(y_sin_test_noisy - output_sin_all)))\n",
    "print('The error for Sin function in online learning without noisy data is: ', np.mean(abs(y_sin_test - output_sin_all)))\n",
    "\n",
    "# max/minima\n",
    "rbf_sin_max_min = RBF(num_nodes=4, sigma=1, mus=[0.8, 2.4, 3.9,  5.5])\n",
    "rbf_sin_max_min.fit_delta(x_train, y_sin_train_noisy, num_epochs=30, learning_rate=0.01)\n",
    "output_sin_max_min = rbf_sin_max_min.predict(x_test)\n",
    "print('max/minima (4 nodes):')\n",
    "print('The error for Sin function in online learning with noisy data is: ', np.mean(abs(y_sin_test_noisy - output_sin_max_min)))\n",
    "print('The error for Sin function in online learning without noisy data is: ', np.mean(abs(y_sin_test - output_sin_max_min)))\n",
    "\n",
    "# random\n",
    "rbf_sin_ramdom = RBF(num_nodes=8, sigma=1)\n",
    "rbf_sin_ramdom.fit_delta(x_train, y_sin_train_noisy, num_epochs=30, learning_rate=0.01)\n",
    "output_sin_ramdom = rbf_sin_ramdom.predict(x_test)\n",
    "print('random (8 nodes):')\n",
    "print('The error for Sin function in online learning with noisy data is: ', np.mean(abs(y_sin_test_noisy - output_sin_ramdom)))\n",
    "print('The error for Sin function in online learning without noisy data is: ', np.mean(abs(y_sin_test - output_sin_ramdom)))\n",
    "\n",
    "# random\n",
    "rbf_sin_ramdom = RBF(num_nodes=4, sigma=1)\n",
    "rbf_sin_ramdom.fit_delta(x_train, y_sin_train_noisy, num_epochs=30, learning_rate=0.01)\n",
    "output_sin_ramdom = rbf_sin_ramdom.predict(x_test)\n",
    "print('random (4 nodes):')\n",
    "print('The error for Sin function in online learning with noisy data is: ', np.mean(abs(y_sin_test_noisy - output_sin_ramdom)))\n",
    "print('The error for Sin function in online learning without noisy data is: ', np.mean(abs(y_sin_test - output_sin_ramdom)))"
   ]
  },
  {
   "cell_type": "markdown",
   "metadata": {
    "hidden": true
   },
   "source": [
    "#### Comparison to one layer perceptron"
   ]
  },
  {
   "cell_type": "markdown",
   "metadata": {
    "hidden": true
   },
   "source": [
    "Please compare your optimal RBF network trained in batch mode with a single-hidden-layer perceptron trained with backprop (also in batch mode), which you implemented in the 􏰘rst lab assignment. Please use the same number of hidden units as in the RBF network. The comparison should be made for both functions: sin(2x) and square(2x), only for the noisy case. Please remember that generalisation performance and training time are of greatest interest.\n",
    "\n",
    "---\n",
    "\n",
    "-> mlp performs worse on sin but better on square\n",
    "\n"
   ]
  },
  {
   "cell_type": "code",
   "execution_count": 89,
   "metadata": {
    "ExecuteTime": {
     "end_time": "2020-01-29T18:01:57.804230Z",
     "start_time": "2020-01-29T18:01:57.630004Z"
    },
    "hidden": true
   },
   "outputs": [
    {
     "name": "stdout",
     "output_type": "stream",
     "text": [
      "The error for Sin function in batch learning with noisy data is:  0.10069101344946524\n",
      "The error for Square function in batch learning with noisy data is:  0.2705416197106422\n"
     ]
    }
   ],
   "source": [
    "rbf_sin_batch = RBF(num_nodes=13, sigma=1)\n",
    "rbf_sin_batch.fit(x_train, y_sin_train_noisy)\n",
    "output_sin_batch = rbf_sin_batch.predict(x_test)\n",
    "print('The error for Sin function in batch learning with noisy data is: ', np.mean(abs(y_sin_test_noisy - output_sin_batch)))\n",
    "\n",
    "rbf_square_batch = RBF(num_nodes=13, sigma=1)\n",
    "rbf_square_batch.fit(x_train, y_square_train_noisy)\n",
    "output_square_batch = rbf_square_batch.predict(x_test)\n",
    "print('The error for Square function in batch learning with noisy data is: ', np.mean(abs(y_square_test_noisy - output_square_batch)))"
   ]
  },
  {
   "cell_type": "code",
   "execution_count": 90,
   "metadata": {
    "ExecuteTime": {
     "end_time": "2020-01-29T18:01:58.121960Z",
     "start_time": "2020-01-29T18:01:57.807407Z"
    },
    "hidden": true
   },
   "outputs": [
    {
     "name": "stdout",
     "output_type": "stream",
     "text": [
      "The error for Sin function in batch learning with noisy data is:  0.14579584163446255\n",
      "The error for Square function in batch learning with noisy data is:  0.17727907036677706\n"
     ]
    },
    {
     "name": "stderr",
     "output_type": "stream",
     "text": [
      "/Users/brenoaberle/opt/anaconda3/lib/python3.7/site-packages/sklearn/neural_network/multilayer_perceptron.py:350: UserWarning: Got `batch_size` less than 1 or larger than sample size. It is going to be clipped\n",
      "  warnings.warn(\"Got `batch_size` less than 1 or larger than \"\n",
      "/Users/brenoaberle/opt/anaconda3/lib/python3.7/site-packages/sklearn/neural_network/multilayer_perceptron.py:566: ConvergenceWarning: Stochastic Optimizer: Maximum iterations (200) reached and the optimization hasn't converged yet.\n",
      "  % self.max_iter, ConvergenceWarning)\n",
      "/Users/brenoaberle/opt/anaconda3/lib/python3.7/site-packages/sklearn/neural_network/multilayer_perceptron.py:350: UserWarning: Got `batch_size` less than 1 or larger than sample size. It is going to be clipped\n",
      "  warnings.warn(\"Got `batch_size` less than 1 or larger than \"\n",
      "/Users/brenoaberle/opt/anaconda3/lib/python3.7/site-packages/sklearn/neural_network/multilayer_perceptron.py:566: ConvergenceWarning: Stochastic Optimizer: Maximum iterations (200) reached and the optimization hasn't converged yet.\n",
      "  % self.max_iter, ConvergenceWarning)\n"
     ]
    }
   ],
   "source": [
    "mlp = MLPRegressor(13, batch_size=(len(x_train)))\n",
    "mlp.fit(x_train.reshape(1, -1),y_sin_train_noisy.reshape(1, -1))\n",
    "output_mlp = mlp.predict(x_test.reshape(1, -1))\n",
    "print('The error for Sin function in batch learning with noisy data is: ', np.mean(abs(y_sin_test_noisy - output_mlp)))\n",
    "\n",
    "mlp = MLPRegressor(13, batch_size=(len(x_train)))\n",
    "mlp.fit(x_train.reshape(1, -1),y_square_train_noisy.reshape(1, -1))\n",
    "output_mlp = mlp.predict(x_test.reshape(1, -1))\n",
    "print('The error for Square function in batch learning with noisy data is: ', np.mean(abs(y_square_test_noisy - output_mlp)))\n"
   ]
  },
  {
   "cell_type": "code",
   "execution_count": 91,
   "metadata": {
    "ExecuteTime": {
     "end_time": "2020-01-29T18:01:58.589943Z",
     "start_time": "2020-01-29T18:01:58.133680Z"
    },
    "hidden": true
   },
   "outputs": [
    {
     "data": {
      "text/plain": [
       "<matplotlib.legend.Legend at 0x1c234f8110>"
      ]
     },
     "execution_count": 91,
     "metadata": {},
     "output_type": "execute_result"
    },
    {
     "data": {
      "image/png": "[encoded data removed]",
      "text/plain": [
       "<Figure size 432x288 with 1 Axes>"
      ]
     },
     "metadata": {
      "needs_background": "light"
     },
     "output_type": "display_data"
    }
   ],
   "source": [
    "plt.plot(x_test, output_sin_batch,'r', label=\"Predicted batch: sin(2x)\")\n",
    "plt.plot(x_test, y_sin_test_noisy ,'g.', label=\"Target: sin(2x)\")\n",
    "plt.plot(x_test, output_sin_online, 'b', label=\"Predicted online: square(2x)\")\n",
    "plt.xlabel(\"x\")\n",
    "plt.ylabel(\"y\")\n",
    "plt.title(\"Dataset\")\n",
    "plt.legend()"
   ]
  },
  {
   "cell_type": "markdown",
   "metadata": {
    "hidden": true
   },
   "source": [
    "### Competitive learning (CL) to initialise RBF units"
   ]
  },
  {
   "cell_type": "markdown",
   "metadata": {
    "hidden": true
   },
   "source": [
    "Placing the RBFs in the input space. We will use a version of CL for Vector Quantization. A simple algorithm we use here can only adjust the positions of the RBF units without adjusting the width of the units. \n",
    "Therefore you will have to make these adjustment yourselves based on the distribution of data around the cluster centers found with this simple CL algorithm. \n",
    "\n",
    "CL algorithm: At each iteration of CL a training vector is randomly selected from the data. The closest RBF unit (usually called the winning unit) is computed, and this unit is updated, in such a way that it gets closer to the training vector. The other units may or may not (depending on the version of CL used) be moved towards it too, depending on distance. This way the units will tend to aggregate in the clusters in the data space."
   ]
  },
  {
   "cell_type": "markdown",
   "metadata": {
    "hidden": true
   },
   "source": [
    "#### Compare CL based with manually positioned\n",
    "\n",
    "Compare the CL-based approach with your earlier RBF network where you manually positioned RBF nodes in the input space. Make this comparison for both noise-free and noisy approximation of sin(2x) and use the number of units corresponding to the best performing architectures found in sections 3.1 and 3.2, respectively. Pay attention to convergence, generalisation performance and the resulting position of nodes.\n",
    "\n",
    "---\n"
   ]
  },
  {
   "cell_type": "code",
   "execution_count": 107,
   "metadata": {
    "ExecuteTime": {
     "end_time": "2020-01-29T18:02:01.235569Z",
     "start_time": "2020-01-29T18:01:58.606760Z"
    },
    "hidden": true
   },
   "outputs": [
    {
     "name": "stdout",
     "output_type": "stream",
     "text": [
      "The error for Sin function in batch learning with noisy data and cl units is:  0.6282703213780126\n"
     ]
    }
   ],
   "source": [
    "num_nodes = 6\n",
    "mus = cl_competitive(num_nodes,x_train, iterations=100, lr=0.01)\n",
    "# at all turnpoints/max/minima\n",
    "rbf_sin_cl = RBF(num_nodes=num_nodes, sigma=1, mus=mus)\n",
    "rbf_sin_cl.fit_delta(x_train, y_sin_train_noisy, num_epochs=100, learning_rate=0.01)\n",
    "output_sin_cl = rbf_sin_cl.predict(x_test)\n",
    "print('The error for Sin function in batch learning with noisy data and cl units is: ', np.mean(abs(y_sin_test_noisy - output_sin_cl)))\n"
   ]
  },
  {
   "cell_type": "markdown",
   "metadata": {
    "hidden": true
   },
   "source": [
    "#### Smooth Boundary\n",
    "Introduce a strategy to avoid dead units, e.g. by having more than a single winner. Choose an example to demonstrate this effect in comparison with the vanilla version of our simple CL algorithm.\n",
    "\n",
    "---\n",
    "\n",
    "-> With 2 units changes the results are better\n",
    "\n"
   ]
  },
  {
   "cell_type": "code",
   "execution_count": 108,
   "metadata": {
    "ExecuteTime": {
     "end_time": "2020-01-29T18:02:04.369945Z",
     "start_time": "2020-01-29T18:02:01.245923Z"
    },
    "hidden": true
   },
   "outputs": [
    {
     "name": "stdout",
     "output_type": "stream",
     "text": [
      "The error for Sin function in batch learning with noisy data and cl units with 2 winners is:  0.6797386028060118\n"
     ]
    }
   ],
   "source": [
    "num_nodes = 6\n",
    "mus = cl_competitive(num_nodes=num_nodes,input_space=x_train, num_winners=2, iterations=100, lr=0.01)\n",
    "# at all turnpoints/max/minima\n",
    "rbf_sin_cl = RBF(num_nodes=num_nodes, sigma=1, mus=mus)\n",
    "rbf_sin_cl.fit_delta(x_train, y_sin_train_noisy, num_epochs=100, learning_rate=0.01)\n",
    "output_sin_cl = rbf_sin_cl.predict(x_test)\n",
    "print('The error for Sin function in batch learning with noisy data and cl units with 2 winners is: ', np.mean(abs(y_sin_test_noisy - output_sin_cl)))\n"
   ]
  },
  {
   "cell_type": "markdown",
   "metadata": {
    "hidden": true
   },
   "source": [
    "#### Two dimensional\n",
    "\n",
    "Configure an RBF network with the use of CL for positioning the RBF units to approximate a two-dimensional function, i.e. from R2 to R2. \n",
    "\n",
    "As training examples use noisy data from ballistical experiments \n",
    "* where inputs are pairs: <angle, velocity> \n",
    "* the outputs are pairs: <dis- tance, height>.\n",
    "\n",
    "There are two datasets available: ballist for training and balltest for testing. First thing to do is to load the data and then train the RBF network to and a mapping between the input and output values. Please be careful with the selection of a suitable number of nodes and their initialisation to avoid dead-unit and overitting problems. Report your results and observations, ideally with the support of illustrations, and document your analyses (e.g., inspect the position of units in the input space).\n",
    "\n",
    "----\n",
    "\n",
    "-> position in input space is equally distributed\n",
    "-> but random almost equally good"
   ]
  },
  {
   "cell_type": "code",
   "execution_count": 109,
   "metadata": {
    "ExecuteTime": {
     "end_time": "2020-01-29T18:02:04.538069Z",
     "start_time": "2020-01-29T18:02:04.393555Z"
    },
    "hidden": true
   },
   "outputs": [],
   "source": [
    "## Read dat file\n",
    "df_training = pd.read_csv(data_set_path+ 'ballist.dat', \n",
    "                 sep=\"\\s+\", #separator whitespace\n",
    "                 header=None) \n",
    "df_training.columns = [['x1', 'x2', 'y1', 'y2']]\n",
    "\n",
    "df_test = pd.read_csv(data_set_path+ 'balltest.dat', \n",
    "                 sep=\"\\s+\", #separator whitespace\n",
    "                 header=None) \n",
    "df_test.columns = [['x1', 'x2', 'y1', 'y2']]\n",
    "\n",
    "#Create arrays from pandas\n",
    "training_x = df_training[['x1', 'x2']].values\n",
    "training_y = df_training[['y1', 'y2']].values\n",
    "test_x = df_test[['x1', 'x2']].values\n",
    "test_y = df_test[['y1', 'y2']].values"
   ]
  },
  {
   "cell_type": "markdown",
   "metadata": {
    "hidden": true
   },
   "source": [
    "#### with cl competitive"
   ]
  },
  {
   "cell_type": "code",
   "execution_count": 115,
   "metadata": {
    "ExecuteTime": {
     "end_time": "2020-01-29T18:02:04.643242Z",
     "start_time": "2020-01-29T18:02:04.542647Z"
    },
    "hidden": true
   },
   "outputs": [
    {
     "name": "stdout",
     "output_type": "stream",
     "text": [
      "[[0.14679834 0.3703366 ]\n",
      " [0.12462789 0.36367535]\n",
      " [0.71344704 0.96586578]\n",
      " [0.0415502  0.49334395]\n",
      " [0.01402351 0.72863397]\n",
      " [0.27232024 0.10211741]\n",
      " [0.91591347 0.0340287 ]\n",
      " [0.60613898 0.68149427]\n",
      " [0.45353752 0.26207586]\n",
      " [0.80166109 0.7799158 ]]\n"
     ]
    }
   ],
   "source": [
    "num_nodes = 10\n",
    "mus = cl_competitive(num_nodes,training_x, iterations=10, lr=0.001)\n",
    "print(mus)"
   ]
  },
  {
   "cell_type": "code",
   "execution_count": 116,
   "metadata": {
    "ExecuteTime": {
     "end_time": "2020-01-29T18:02:04.963398Z",
     "start_time": "2020-01-29T18:02:04.647547Z"
    },
    "hidden": true
   },
   "outputs": [
    {
     "data": {
      "text/plain": [
       "[<matplotlib.lines.Line2D at 0x1c2372f290>]"
      ]
     },
     "execution_count": 116,
     "metadata": {},
     "output_type": "execute_result"
    },
    {
     "data": {
      "image/png": "[encoded data removed]",
      "text/plain": [
       "<Figure size 432x288 with 1 Axes>"
      ]
     },
     "metadata": {
      "needs_background": "light"
     },
     "output_type": "display_data"
    }
   ],
   "source": [
    "plt.plot(training_x[:,0], training_x[:,1], 'r.')\n",
    "plt.plot(mus[:,0], mus[:,1], 'b.')"
   ]
  },
  {
   "cell_type": "code",
   "execution_count": 117,
   "metadata": {
    "ExecuteTime": {
     "end_time": "2020-01-29T18:02:07.112447Z",
     "start_time": "2020-01-29T18:02:04.979511Z"
    },
    "hidden": true
   },
   "outputs": [
    {
     "name": "stdout",
     "output_type": "stream",
     "text": [
      "The error for Ballist distance and cl units is:  0.19636014339090335\n",
      "The error for Ballist height and cl units is:  0.1535805017088218\n"
     ]
    }
   ],
   "source": [
    "output_ballist = RBF(num_nodes=num_nodes, sigma=1, mus=mus)\n",
    "output_ballist.fit_delta(training_x, training_y[:,0], num_epochs=30, learning_rate=0.01)\n",
    "output_ballist_distance = output_ballist.predict(test_x)\n",
    "print('The error for Ballist distance and cl units is: ', np.mean(abs(test_y[:,0] - output_ballist_distance)))\n",
    "\n",
    "output_ballist.fit_delta(training_x, training_y[:,1], num_epochs=30, learning_rate=0.01)\n",
    "output_ballist_height = output_ballist.predict(test_x)\n",
    "print('The error for Ballist height and cl units is: ', np.mean(abs(test_y[:,1] - output_ballist_height)))\n"
   ]
  },
  {
   "cell_type": "markdown",
   "metadata": {
    "hidden": true
   },
   "source": [
    "#### without cl competitive"
   ]
  },
  {
   "cell_type": "code",
   "execution_count": 118,
   "metadata": {
    "ExecuteTime": {
     "end_time": "2020-01-29T18:02:09.211146Z",
     "start_time": "2020-01-29T18:02:07.115685Z"
    },
    "hidden": true
   },
   "outputs": [
    {
     "name": "stdout",
     "output_type": "stream",
     "text": [
      "The error for Sin function in batch learning with noisy data and cl units is:  0.21564646345589686\n",
      "The error for Sin function in batch learning with noisy data and cl units is:  0.16561711311562569\n"
     ]
    }
   ],
   "source": [
    "output_ballist = RBF(num_nodes=num_nodes, sigma=1)\n",
    "output_ballist.fit_delta(training_x, training_y[:,0], num_epochs=30, learning_rate=0.01)\n",
    "output_ballist_distance = output_ballist.predict(test_x)\n",
    "print('The error for Sin function in batch learning with noisy data and cl units is: ', np.mean(abs(test_y[:,0] - output_ballist_distance)))\n",
    "\n",
    "output_ballist.fit_delta(training_x, training_y[:,1], num_epochs=30, learning_rate=0.01)\n",
    "output_ballist_height = output_ballist.predict(test_x)\n",
    "print('The error for Sin function in batch learning with noisy data and cl units is: ', np.mean(abs(test_y[:,1] - output_ballist_height)))\n"
   ]
  },
  {
   "cell_type": "code",
   "execution_count": 119,
   "metadata": {
    "ExecuteTime": {
     "end_time": "2020-01-29T18:02:09.521582Z",
     "start_time": "2020-01-29T18:02:09.214862Z"
    },
    "hidden": true
   },
   "outputs": [
    {
     "data": {
      "text/plain": [
       "[<matplotlib.lines.Line2D at 0x1c238042d0>]"
      ]
     },
     "execution_count": 119,
     "metadata": {},
     "output_type": "execute_result"
    },
    {
     "data": {
      "image/png": "[encoded data removed]",
      "text/plain": [
       "<Figure size 432x288 with 1 Axes>"
      ]
     },
     "metadata": {
      "needs_background": "light"
     },
     "output_type": "display_data"
    }
   ],
   "source": [
    "plt.plot(training_x[:,0], training_x[:,1], 'r.')\n",
    "plt.plot(output_ballist.mus[:,0], output_ballist.mus[:,1], 'b.')"
   ]
  },
  {
   "cell_type": "markdown",
   "metadata": {},
   "source": [
    "## Part II"
   ]
  },
  {
   "cell_type": "markdown",
   "metadata": {},
   "source": [
    "### Topological Ordering of Animal Species"
   ]
  },
  {
   "cell_type": "markdown",
   "metadata": {},
   "source": [
    "The SOM algorithm can be used to assign a natural order to objects characterized only by a large number of attributes. This is done by letting the SOM algorithm create a topological mapping from the high-dimensional attribute space to a one-dimensional output space."
   ]
  },
  {
   "cell_type": "markdown",
   "metadata": {},
   "source": [
    "#### Create Data set\n",
    "\n",
    "Data:\n",
    "* 32 animal species where each animal is characterized by 84 binary attributes. Each row contains the attributes of one animal.\n",
    "* animalnames.dat: with the names of the animals in the same order. This vector should only be used to print out the final ordering in a more readable format. \n",
    "\n",
    "These 84 values serve as input and 100 nodes arranged in a one-dimensional topology, i.e. in a linear sequence, constitute the output."
   ]
  },
  {
   "cell_type": "code",
   "execution_count": 120,
   "metadata": {
    "ExecuteTime": {
     "end_time": "2020-01-29T23:36:09.215002Z",
     "start_time": "2020-01-29T23:36:08.755403Z"
    }
   },
   "outputs": [
    {
     "name": "stdout",
     "output_type": "stream",
     "text": [
      "(32, 84)\n",
      "(1, 32)\n",
      "(1, 84)\n"
     ]
    },
    {
     "data": {
      "text/html": [
       "<div>\n",
       "<style scoped>\n",
       "    .dataframe tbody tr th:only-of-type {\n",
       "        vertical-align: middle;\n",
       "    }\n",
       "\n",
       "    .dataframe tbody tr th {\n",
       "        vertical-align: top;\n",
       "    }\n",
       "\n",
       "    .dataframe thead tr th {\n",
       "        text-align: left;\n",
       "    }\n",
       "</style>\n",
       "<table border=\"1\" class=\"dataframe\">\n",
       "  <thead>\n",
       "    <tr>\n",
       "      <th></th>\n",
       "      <th>antlered</th>\n",
       "      <th>articulations</th>\n",
       "      <th>barks</th>\n",
       "      <th>big</th>\n",
       "      <th>bigears</th>\n",
       "      <th>biting</th>\n",
       "      <th>black</th>\n",
       "      <th>blood</th>\n",
       "      <th>brown</th>\n",
       "      <th>climbing</th>\n",
       "      <th>...</th>\n",
       "      <th>twowinged</th>\n",
       "      <th>warmblooded</th>\n",
       "      <th>waterliving</th>\n",
       "      <th>verybig</th>\n",
       "      <th>verylongears</th>\n",
       "      <th>verysmall</th>\n",
       "      <th>white</th>\n",
       "      <th>wingless</th>\n",
       "      <th>wings</th>\n",
       "      <th>yellow</th>\n",
       "    </tr>\n",
       "  </thead>\n",
       "  <tbody>\n",
       "    <tr>\n",
       "      <td>'antelop'</td>\n",
       "      <td>1</td>\n",
       "      <td>0</td>\n",
       "      <td>0</td>\n",
       "      <td>0</td>\n",
       "      <td>0</td>\n",
       "      <td>0</td>\n",
       "      <td>0</td>\n",
       "      <td>1</td>\n",
       "      <td>0</td>\n",
       "      <td>0</td>\n",
       "      <td>...</td>\n",
       "      <td>0</td>\n",
       "      <td>1</td>\n",
       "      <td>0</td>\n",
       "      <td>0</td>\n",
       "      <td>0</td>\n",
       "      <td>0</td>\n",
       "      <td>0</td>\n",
       "      <td>0</td>\n",
       "      <td>0</td>\n",
       "      <td>0</td>\n",
       "    </tr>\n",
       "    <tr>\n",
       "      <td>'ape'</td>\n",
       "      <td>0</td>\n",
       "      <td>0</td>\n",
       "      <td>0</td>\n",
       "      <td>1</td>\n",
       "      <td>0</td>\n",
       "      <td>0</td>\n",
       "      <td>1</td>\n",
       "      <td>1</td>\n",
       "      <td>0</td>\n",
       "      <td>0</td>\n",
       "      <td>...</td>\n",
       "      <td>0</td>\n",
       "      <td>1</td>\n",
       "      <td>0</td>\n",
       "      <td>0</td>\n",
       "      <td>0</td>\n",
       "      <td>0</td>\n",
       "      <td>0</td>\n",
       "      <td>0</td>\n",
       "      <td>0</td>\n",
       "      <td>0</td>\n",
       "    </tr>\n",
       "    <tr>\n",
       "      <td>'bat'</td>\n",
       "      <td>0</td>\n",
       "      <td>0</td>\n",
       "      <td>0</td>\n",
       "      <td>0</td>\n",
       "      <td>0</td>\n",
       "      <td>0</td>\n",
       "      <td>0</td>\n",
       "      <td>1</td>\n",
       "      <td>0</td>\n",
       "      <td>0</td>\n",
       "      <td>...</td>\n",
       "      <td>0</td>\n",
       "      <td>1</td>\n",
       "      <td>0</td>\n",
       "      <td>0</td>\n",
       "      <td>0</td>\n",
       "      <td>1</td>\n",
       "      <td>0</td>\n",
       "      <td>0</td>\n",
       "      <td>0</td>\n",
       "      <td>0</td>\n",
       "    </tr>\n",
       "    <tr>\n",
       "      <td>'bear'</td>\n",
       "      <td>0</td>\n",
       "      <td>0</td>\n",
       "      <td>0</td>\n",
       "      <td>1</td>\n",
       "      <td>0</td>\n",
       "      <td>0</td>\n",
       "      <td>0</td>\n",
       "      <td>1</td>\n",
       "      <td>1</td>\n",
       "      <td>0</td>\n",
       "      <td>...</td>\n",
       "      <td>0</td>\n",
       "      <td>1</td>\n",
       "      <td>0</td>\n",
       "      <td>0</td>\n",
       "      <td>0</td>\n",
       "      <td>0</td>\n",
       "      <td>0</td>\n",
       "      <td>0</td>\n",
       "      <td>0</td>\n",
       "      <td>0</td>\n",
       "    </tr>\n",
       "    <tr>\n",
       "      <td>'beetle'</td>\n",
       "      <td>0</td>\n",
       "      <td>1</td>\n",
       "      <td>0</td>\n",
       "      <td>0</td>\n",
       "      <td>0</td>\n",
       "      <td>1</td>\n",
       "      <td>1</td>\n",
       "      <td>0</td>\n",
       "      <td>0</td>\n",
       "      <td>0</td>\n",
       "      <td>...</td>\n",
       "      <td>0</td>\n",
       "      <td>0</td>\n",
       "      <td>0</td>\n",
       "      <td>0</td>\n",
       "      <td>0</td>\n",
       "      <td>0</td>\n",
       "      <td>0</td>\n",
       "      <td>0</td>\n",
       "      <td>1</td>\n",
       "      <td>0</td>\n",
       "    </tr>\n",
       "  </tbody>\n",
       "</table>\n",
       "<p>5 rows × 84 columns</p>\n",
       "</div>"
      ],
      "text/plain": [
       "          antlered articulations barks big bigears biting black blood brown  \\\n",
       "'antelop'        1             0     0   0       0      0     0     1     0   \n",
       "'ape'            0             0     0   1       0      0     1     1     0   \n",
       "'bat'            0             0     0   0       0      0     0     1     0   \n",
       "'bear'           0             0     0   1       0      0     0     1     1   \n",
       "'beetle'         0             1     0   0       0      1     1     0     0   \n",
       "\n",
       "          climbing  ... twowinged warmblooded waterliving verybig  \\\n",
       "'antelop'        0  ...         0           1           0       0   \n",
       "'ape'            0  ...         0           1           0       0   \n",
       "'bat'            0  ...         0           1           0       0   \n",
       "'bear'           0  ...         0           1           0       0   \n",
       "'beetle'         0  ...         0           0           0       0   \n",
       "\n",
       "          verylongears verysmall white wingless wings yellow  \n",
       "'antelop'            0         0     0        0     0      0  \n",
       "'ape'                0         0     0        0     0      0  \n",
       "'bat'                0         1     0        0     0      0  \n",
       "'bear'               0         0     0        0     0      0  \n",
       "'beetle'             0         0     0        0     1      0  \n",
       "\n",
       "[5 rows x 84 columns]"
      ]
     },
     "execution_count": 120,
     "metadata": {},
     "output_type": "execute_result"
    }
   ],
   "source": [
    "animals = pd.read_csv(data_set_path+ 'animals.dat', \n",
    "                 sep=\",\", \n",
    "                 header=None).iloc[0].values.reshape((32,84))\n",
    "print(animals.shape)\n",
    "\n",
    "animal_names = pd.read_csv(data_set_path+ 'animalnames.txt', \n",
    "                 sep=\"\\s+\", #separator whitespace\n",
    "                 header=None).values.T\n",
    "print(animal_names.shape)\n",
    "\n",
    "animal_attributes = pd.read_csv(data_set_path+ 'animalattributes.txt', \n",
    "                 sep=\"\\s+\", #separator whitespace\n",
    "                 header=None).values.T\n",
    "print(animal_attributes.shape)\n",
    "\n",
    "\n",
    "df_animals = pd.DataFrame(animals, index = animal_names.tolist(),  columns=animal_attributes.tolist())\n",
    "df_animals.head()"
   ]
  },
  {
   "cell_type": "markdown",
   "metadata": {},
   "source": [
    "#### Train network\n",
    "\n",
    "Train the SOM network by showing the attribute vector of one animal at a time. The SOM algorithm should now be able to create a mapping onto the **100 output nodes** such that similar animals tend to be close while different animals tend to be further away along the sequence of nodes. In order to get this one- dimensional topology, the network has to be trained using a **one-dimensional neighbourhood**.\n",
    "\n",
    "By sorting this vector we will get the animals in the desired order. Check the resulting order. Does it make sense? If everything works, animals next to each other in the listing should always have some similarity between them. Insects should typically be grouped together, separate from the different cats, for example.\n",
    "\n",
    "---\n",
    "\n",
    "-> makes a little bit sense, insects are grouped together, cat/dog and lion are together\n"
   ]
  },
  {
   "cell_type": "code",
   "execution_count": 121,
   "metadata": {
    "ExecuteTime": {
     "end_time": "2020-01-30T02:00:03.244253Z",
     "start_time": "2020-01-30T01:59:58.674916Z"
    }
   },
   "outputs": [
    {
     "name": "stdout",
     "output_type": "stream",
     "text": [
      "self.weights:  (100, 84)\n"
     ]
    }
   ],
   "source": [
    "som = SOM(num_nodes=100)\n",
    "som.fit(x=animals, neighbours_init=50)\n",
    "positions = som.predict(animals) # calculate index of winning output node\n"
   ]
  },
  {
   "cell_type": "code",
   "execution_count": 122,
   "metadata": {
    "ExecuteTime": {
     "end_time": "2020-01-30T02:00:03.377364Z",
     "start_time": "2020-01-30T02:00:03.250069Z"
    }
   },
   "outputs": [
    {
     "data": {
      "text/plain": [
       "array([[2, \"'housefly'\"],\n",
       "       [4, \"'moskito'\"],\n",
       "       [9, \"'butterfly'\"],\n",
       "       [12, \"'dragonfly'\"],\n",
       "       [14, \"'grasshopper'\"],\n",
       "       [16, \"'beetle'\"],\n",
       "       [20, \"'pelican'\"],\n",
       "       [22, \"'duck'\"],\n",
       "       [27, \"'penguin'\"],\n",
       "       [29, \"'ostrich'\"],\n",
       "       [33, \"'frog'\"],\n",
       "       [36, \"'seaturtle'\"],\n",
       "       [38, \"'crocodile'\"],\n",
       "       [43, \"'walrus'\"],\n",
       "       [46, \"'bear'\"],\n",
       "       [47, \"'hyena'\"],\n",
       "       [50, \"'dog'\"],\n",
       "       [55, \"'rat'\"],\n",
       "       [58, \"'rabbit'\"],\n",
       "       [61, \"'kangaroo'\"],\n",
       "       [63, \"'elephant'\"],\n",
       "       [65, \"'bat'\"],\n",
       "       [69, \"'skunk'\"],\n",
       "       [72, \"'cat'\"],\n",
       "       [73, \"'lion'\"],\n",
       "       [76, \"'ape'\"],\n",
       "       [79, \"'camel'\"],\n",
       "       [81, \"'giraffe'\"],\n",
       "       [83, \"'pig'\"],\n",
       "       [88, \"'horse'\"],\n",
       "       [92, \"'antelop'\"],\n",
       "       [98, \"'spider'\"]], dtype=object)"
      ]
     },
     "execution_count": 122,
     "metadata": {},
     "output_type": "execute_result"
    }
   ],
   "source": [
    "arranged_animals = np.concatenate((np.array(positions), animal_names.T), axis=1)\n",
    "arranged_animals[arranged_animals[:, 0].argsort()]"
   ]
  },
  {
   "cell_type": "markdown",
   "metadata": {},
   "source": [
    "### Cyclic Tour"
   ]
  },
  {
   "cell_type": "markdown",
   "metadata": {},
   "source": [
    "Now the same technique can be used to layout a curve in a two-dimensional plane so that it passes a set of points (a variant of the travelling salesman problem). \n",
    "The training points correspond to the cities and the curve corresponds to the tour. SOM algorithm should be able to find a fairly short route which passes all cities.\n",
    "\n",
    "\n",
    "Please plot both the tour and the training points. Give your interpretation.\n",
    "\n",
    "---"
   ]
  },
  {
   "cell_type": "markdown",
   "metadata": {},
   "source": [
    "#### Create Data set\n",
    "\n",
    "The location of the ten cities is defined in the file cities.dat which defines the 10 × 2 matrix city. Each row contains the coordinates of one city (value between zero and one)."
   ]
  },
  {
   "cell_type": "code",
   "execution_count": 123,
   "metadata": {
    "ExecuteTime": {
     "end_time": "2020-01-30T02:00:25.385764Z",
     "start_time": "2020-01-30T02:00:25.264383Z"
    }
   },
   "outputs": [
    {
     "data": {
      "text/plain": [
       "array([[0.4   , 0.4439],\n",
       "       [0.2439, 0.1463],\n",
       "       [0.1707, 0.2293],\n",
       "       [0.2293, 0.761 ],\n",
       "       [0.5171, 0.9414],\n",
       "       [0.8732, 0.6536],\n",
       "       [0.6878, 0.5219],\n",
       "       [0.8488, 0.3609],\n",
       "       [0.6683, 0.2536],\n",
       "       [0.6195, 0.2634]])"
      ]
     },
     "execution_count": 123,
     "metadata": {},
     "output_type": "execute_result"
    }
   ],
   "source": [
    "cities = pd.read_csv(data_set_path + \"cities.txt\", sep=\",\", header=None).values\n",
    "cities"
   ]
  },
  {
   "cell_type": "code",
   "execution_count": 124,
   "metadata": {
    "ExecuteTime": {
     "end_time": "2020-01-30T02:00:26.770731Z",
     "start_time": "2020-01-30T02:00:26.480057Z"
    }
   },
   "outputs": [
    {
     "data": {
      "text/plain": [
       "[<matplotlib.lines.Line2D at 0x1c23949190>]"
      ]
     },
     "execution_count": 124,
     "metadata": {},
     "output_type": "execute_result"
    },
    {
     "data": {
      "image/png": "[encoded data removed]",
      "text/plain": [
       "<Figure size 432x288 with 1 Axes>"
      ]
     },
     "metadata": {
      "needs_background": "light"
     },
     "output_type": "display_data"
    }
   ],
   "source": [
    "plt.plot(cities[:,0], cities[:,1], '.')"
   ]
  },
  {
   "cell_type": "markdown",
   "metadata": {},
   "source": [
    "#### Train network\n",
    "\n",
    "The main differences between this algorithm and the one above are:\n",
    "* The input space has two dimensions instead of 84. The output grid should have 10 nodes, corresponding to the ten cities used in this example.\n",
    "* The neighbourhood should be circular since we are looking for a circular tour. When calculating the neighbours you have to make sure that the first and the last output node are treated as next neighbours.\n",
    "* The size of the neighbourhood must be smaller, corresponding to the smaller number of output nodes. It is reasonable to start with a neighbourhood size of 2 and then change it to 1 and finally zero.\n",
    "\n",
    "---"
   ]
  },
  {
   "cell_type": "code",
   "execution_count": 125,
   "metadata": {
    "ExecuteTime": {
     "end_time": "2020-01-30T02:09:49.767191Z",
     "start_time": "2020-01-30T02:09:49.693455Z"
    }
   },
   "outputs": [
    {
     "name": "stdout",
     "output_type": "stream",
     "text": [
      "self.weights:  (10, 2)\n"
     ]
    }
   ],
   "source": [
    "som = SOM(num_nodes=10)\n",
    "som.fit(x=cities, neighbours_init=3)\n",
    "positions = som.predict(cities)\n"
   ]
  },
  {
   "cell_type": "code",
   "execution_count": 126,
   "metadata": {
    "ExecuteTime": {
     "end_time": "2020-01-30T02:09:50.493155Z",
     "start_time": "2020-01-30T02:09:50.442544Z"
    }
   },
   "outputs": [
    {
     "data": {
      "text/plain": [
       "array([[0.    , 0.5171, 0.9414],\n",
       "       [1.    , 0.2293, 0.761 ],\n",
       "       [2.    , 0.4   , 0.4439],\n",
       "       [3.    , 0.2439, 0.1463],\n",
       "       [3.    , 0.1707, 0.2293],\n",
       "       [5.    , 0.6683, 0.2536],\n",
       "       [5.    , 0.6195, 0.2634],\n",
       "       [6.    , 0.8488, 0.3609],\n",
       "       [7.    , 0.6878, 0.5219],\n",
       "       [8.    , 0.8732, 0.6536]])"
      ]
     },
     "execution_count": 126,
     "metadata": {},
     "output_type": "execute_result"
    }
   ],
   "source": [
    "tour = np.concatenate((np.array(positions), cities), axis=1)\n",
    "tour = tour[tour[:, 0].argsort()]\n",
    "tour"
   ]
  },
  {
   "cell_type": "code",
   "execution_count": 127,
   "metadata": {
    "ExecuteTime": {
     "end_time": "2020-01-30T02:09:52.052523Z",
     "start_time": "2020-01-30T02:09:51.732062Z"
    }
   },
   "outputs": [
    {
     "data": {
      "text/plain": [
       "[<matplotlib.lines.Line2D at 0x1c23a8cf10>]"
      ]
     },
     "execution_count": 127,
     "metadata": {},
     "output_type": "execute_result"
    },
    {
     "data": {
      "image/png": "[encoded data removed]",
      "text/plain": [
       "<Figure size 432x288 with 1 Axes>"
      ]
     },
     "metadata": {
      "needs_background": "light"
     },
     "output_type": "display_data"
    }
   ],
   "source": [
    "plt.plot(tour[:,1], tour[:,2], '-')"
   ]
  },
  {
   "cell_type": "markdown",
   "metadata": {},
   "source": [
    "####  Plot the results\n",
    "\n",
    "plot suggested tour graphically"
   ]
  },
  {
   "cell_type": "markdown",
   "metadata": {},
   "source": [
    "###  Data Clustering: Votes of MPs"
   ]
  },
  {
   "cell_type": "markdown",
   "metadata": {},
   "source": [
    "#### Data set creation\n",
    "\n",
    "* votes.dat: data about how all 349 members of the Swedish parliament did vote in the 31 first votes during 2004-2005 \n",
    "* mpparty.dat, mpsex.dat and mpdistrict.dat: additional information about the party, gender and district of each member of parliament (MP)\n",
    "* mpnames.txt: name of the MPs"
   ]
  },
  {
   "cell_type": "code",
   "execution_count": 128,
   "metadata": {
    "ExecuteTime": {
     "end_time": "2020-01-30T02:49:20.253074Z",
     "start_time": "2020-01-30T02:49:15.401401Z"
    }
   },
   "outputs": [
    {
     "name": "stdout",
     "output_type": "stream",
     "text": [
      "votes (349, 31)\n",
      "mpparty (349, 1)\n",
      "mpsex (349, 1)\n",
      "mpdistrict (349, 1)\n",
      "names 349\n"
     ]
    }
   ],
   "source": [
    "# How did MP vote in the 31 first votes -- (349x31) -- Coding: 1=\"yes-vote\" , 0.5=\"missing-vote\" , 0=\"no-vote\"\n",
    "votes = pd.read_csv(data_set_path + 'votes.dat', \n",
    "                 sep=\",\", \n",
    "                 header=None).iloc[0].values.reshape((349,31))\n",
    "print('votes', votes.shape)\n",
    "\n",
    "# Which party does voter belong to -- (349x1) -- Coding: 0=no party, 1='m', 2='fp', 3='s', 4='v', 5='mp', 6='kd', 7='c'      \n",
    "mpparty = pd.read_csv(data_set_path + 'mpparty.txt', \n",
    "                 sep=\"\\s+\", #separator whitespace\n",
    "                 header=None).values\n",
    "print('mpparty', mpparty.shape)\n",
    "\n",
    "# Gender -- (349x1) -- Coding: Male 0, Female 1\n",
    "mpsex = pd.read_csv(data_set_path + 'mpsex.txt', \n",
    "                 sep=\"\\s+\", #separator whitespace\n",
    "                 header=None).values\n",
    "print('mpsex', mpsex.shape)\n",
    "\n",
    "# District -- (349x1) -- Coding: distrint 1 to 29\n",
    "mpdistrict = pd.read_csv(data_set_path + 'mpdistrict.dat', \n",
    "                 sep=\"\\s+\", #separator whitespace\n",
    "                 header=None).values\n",
    "print('mpdistrict', mpdistrict.shape)\n",
    "\n",
    "names = []\n",
    "file = open(data_set_path + 'mpnames.txt', 'r', encoding=\"latin-1\")\n",
    "for line in file: \n",
    "    names.append(line)\n",
    "print('names', len(names))\n"
   ]
  },
  {
   "cell_type": "markdown",
   "metadata": {},
   "source": [
    "#### Train SOM \n",
    "\n",
    "Position all MPs with the SOM algorithm on the 10 x 10 grid according to their votes.\n",
    "\n",
    "Your task is to use the SOM algorithm to position all MPs on a 10 × 10 grid according to their votes.\n",
    "By looking at where the different parties end up in the map you should be able to see if votes of the MPs actually reflect the traditional left-right scale, and if there is a second dimension as well. You should be able to see which parties are far apart and which are close.\n",
    "By looking at the distribution of female and male MPs you could get some insight into whether MPs tend to vote differently depending on their gender. You can also see if there is a tendency for MPs from different districts to vote systematically different.\n",
    "The file votes.dat defines a 349 × 31 matrix votes. Data are organised in row-by-row manner. Each one of 349 rows corresponds to a specific MP and each one of 31 columns to a specific vote. The elements are zero for a no-vote and one for a yes-vote. Missing votes (abstrained or non-present) are represented as 0.5.\n",
    "You should use the SOM algorithm to find a topological mapping from the 31-dimensional input space to a 10 × 10 output grid. The network should be trained with each MPs votes as training data. If all works well, voting patterns that are similar will end up close to each other in the 10 × 10 map.\n",
    "Please display the results with respect to different attributes (i.e. party, gender, district) and describe the results, provide your interpretation."
   ]
  },
  {
   "cell_type": "code",
   "execution_count": 129,
   "metadata": {
    "ExecuteTime": {
     "end_time": "2020-01-30T02:50:02.095771Z",
     "start_time": "2020-01-30T02:49:53.016116Z"
    }
   },
   "outputs": [
    {
     "name": "stdout",
     "output_type": "stream",
     "text": [
      "self.weights:  (100, 31)\n"
     ]
    }
   ],
   "source": [
    "som = SOM(num_nodes=100)\n",
    "som.fit(x=votes, two_d = True)\n",
    "positions = som.predict(votes)\n",
    "#print(np.array(positions))"
   ]
  },
  {
   "cell_type": "code",
   "execution_count": 130,
   "metadata": {},
   "outputs": [],
   "source": [
    "arranged_votes = np.concatenate((np.array(positions), mpparty, mpsex, mpdistrict), axis=1)\n",
    "arranged_votes = arranged_votes[arranged_votes[:, 0].argsort()]\n",
    "#print(arranged_votes)"
   ]
  },
  {
   "cell_type": "code",
   "execution_count": 131,
   "metadata": {},
   "outputs": [
    {
     "name": "stdout",
     "output_type": "stream",
     "text": [
      "position [ 0  0  2  3  4  4  4  4  4  6  7  7  7  7  7  7  7  7  7  7  7  7  7  7\n",
      "  7  7  7  7  7  7  7  7  7  7  7  7  7  7  7  7  7  7  7  7  7  7  7  7\n",
      "  7  7  7  7  7  7  7  7  7  7  7  7  7  7  7  7  7  7  7  7  7  7  7  7\n",
      "  7  7  7  7  7  7  7  7  7  7  7  7  7  7  7  7  7  7  7  7  7  7  7  7\n",
      "  7  7  7  7  7  7  7  7  7  7  7  7  7  7  7  7  7  7  7  7  7  7  7  9\n",
      " 11 11 11 11 11 13 14 15 15 15 15 15 15 15 15 15 15 15 15 15 15 15 15 15\n",
      " 15 15 15 15 15 15 15 16 16 17 18 18 20 20 20 20 20 20 20 20 20 20 20 20\n",
      " 20 20 20 22 22 24 24 24 24 24 25 27 29 29 29 29 29 31 31 31 31 33 33 33\n",
      " 33 33 33 33 33 33 33 33 33 33 36 36 36 36 36 36 36 38 38 38 38 38 38 40\n",
      " 40 42 45 46 46 47 47 47 47 47 47 47 49 49 49 49 49 49 50 51 54 54 54 54\n",
      " 57 60 63 63 63 65 65 65 66 66 66 66 66 66 66 66 66 68 68 68 68 68 68 68\n",
      " 69 69 71 71 74 74 74 74 74 74 74 74 76 77 77 77 77 78 79 79 79 80 82 82\n",
      " 82 82 82 82 82 82 82 82 82 82 82 82 82 82 82 82 82 82 82 82 82 82 82 82\n",
      " 82 82 82 82 85 85 85 85 88 88 88 93 93 96 96 96 96 96 99 99 99 99 99 99\n",
      " 99 99 99 99 99 99 99 99 99 99 99 99 99]\n",
      "party [6 6 2 2 2 2 2 2 2 3 3 3 3 3 3 3 3 3 3 3 3 3 3 3 3 3 3 3 3 3 3 3 3 3 3 3 3\n",
      " 3 3 3 3 3 3 3 3 3 3 3 3 3 3 3 3 3 3 3 3 3 3 3 3 3 3 3 3 3 3 3 3 3 3 3 3 3\n",
      " 3 3 3 3 3 3 3 3 3 3 3 3 3 3 3 3 3 3 3 3 3 3 3 3 3 3 3 3 3 3 3 3 3 3 3 3 3\n",
      " 3 3 3 3 3 3 3 3 3 6 6 6 6 6 2 2 2 2 2 2 2 2 2 2 2 2 2 2 2 2 2 2 2 2 2 2 2\n",
      " 2 2 2 2 2 3 3 3 6 6 6 6 6 6 6 6 6 6 6 6 6 6 6 7 7 2 2 2 2 2 2 3 3 3 3 3 3\n",
      " 7 7 7 7 7 7 7 7 7 7 7 7 7 7 7 7 7 2 2 2 2 2 2 2 3 3 3 3 3 3 6 6 7 6 7 4 3\n",
      " 4 3 5 3 4 3 3 3 3 3 3 3 6 6 6 6 6 6 3 6 1 1 1 1 1 1 3 6 3 3 1 5 5 1 7 5 5\n",
      " 5 5 5 5 5 5 5 1 1 1 1 1 1 1 1 1 1 3 5 3 3 3 5 5 5 5 1 1 1 1 1 1 1 1 1 1 1\n",
      " 1 1 1 1 1 1 1 1 1 1 1 1 1 1 1 1 1 1 1 1 1 1 1 1 4 4 4 1 1 4 4 4 4 4 4 4 4\n",
      " 4 4 4 4 4 4 4 4 4 4 4 4 4 4 0 4]\n",
      "gender [0 0 1 0 1 1 0 0 1 1 0 1 1 1 1 0 0 0 0 0 0 1 1 1 0 1 0 0 1 0 0 1 0 1 1 1 0\n",
      " 0 1 1 0 1 1 0 1 0 1 1 0 0 1 0 1 0 1 0 1 1 0 0 1 0 1 0 0 0 1 0 0 0 1 1 0 1\n",
      " 0 1 0 1 0 1 0 1 0 1 0 0 1 0 0 1 1 0 0 0 1 1 1 0 0 0 0 1 1 0 0 1 1 0 1 0 1\n",
      " 1 1 1 1 0 1 1 1 0 0 1 0 1 1 1 1 1 0 0 0 1 1 0 1 0 0 0 1 0 0 0 0 0 0 1 1 1\n",
      " 0 1 0 1 1 0 1 1 1 0 0 0 0 1 1 0 0 1 0 0 0 0 0 0 1 0 0 1 1 1 0 1 0 0 0 0 0\n",
      " 0 1 0 0 1 1 1 0 1 1 1 0 0 0 0 0 1 0 1 0 0 0 1 1 0 0 1 0 0 0 0 0 0 0 0 1 0\n",
      " 0 1 1 1 1 1 1 1 0 1 0 0 0 0 1 1 1 0 1 0 1 0 0 0 1 1 1 0 1 1 0 1 1 1 1 1 0\n",
      " 1 0 0 1 1 1 0 0 0 1 0 0 1 0 0 0 0 1 0 0 1 1 0 0 1 0 0 0 0 0 0 0 1 0 1 0 0\n",
      " 1 0 0 1 1 0 0 1 1 0 1 1 1 1 1 0 1 0 1 1 0 1 0 1 1 0 1 0 0 1 1 0 0 1 1 0 0\n",
      " 1 0 0 1 0 0 1 0 0 1 1 0 0 1 1 0]\n",
      "district [23 16  1 16  1 19  2 24 28 23 13 26 26 12 14 26 12 12 11 26 14 11 13 11\n",
      " 10 14  5  5  5 27  5  5  6  6 11  6 27  7  8  8  8  9  9 10  6 14 25 15\n",
      " 24 20 20 20 20 21 21 18 21 22 22 22 22 23 23 23 21 15 18 18 15 15  5 16\n",
      " 16 16 25 24 16 16 17 25 17 17 17 18 16  4 10 29  1 29 29  3  3  1 28  1\n",
      "  3 28  1  1  2  1  2  2  2  2  2  2  2  1  3  2 29  4  1  4 29  1 29 28\n",
      "  1 25 22  8 17  3 16 29 20 22 11 23  2 15 16  1 13  1 10  2  2 14  6  8\n",
      " 25  1 13 26  2  5  7  2  2 19 27  4 28  2 13 15  4 19 16  7 26  1  5 29\n",
      " 20 12 10 13 17 12 21  4  5 17  3  2 19 25 14 24  4  7  2  8 15  3 21 18\n",
      " 27 22  6 26 25  5 23  4 14 20  1 12 16 17 15  2 18  5  8 22 11 28 25 21\n",
      "  6 24  6 19 13  2  2 12  3  7  6 28 26 23 13 13  2  6 14 24  2  6  5  2\n",
      " 21  3 17 15  5 10  2  1 24 18 19 13  2 28 17  2 28  4  2  5 29 22  2  1\n",
      " 25 21 11  3  2  5 12  6 25 22 11  6  2 16  7 17 24  1 24 18 13 29 26 27\n",
      " 24  1 23 13 13 12  8  7  5  4  3  2  2  2  2  1  1  1 14 14 13 18 15 16\n",
      " 16 21 16 20  1  1  2 28 21 22 27 19 17  1  3  8 17 18  4 16 14 16 12 25\n",
      " 29  1  1 26 11 20 23  5 24 28  2  2 15]\n"
     ]
    }
   ],
   "source": [
    "print(\"position\",arranged_votes[:, 0])\n",
    "print(\"party\",arranged_votes[:, 1])\n",
    "print(\"gender\",arranged_votes[:, 2])\n",
    "print(\"district\",arranged_votes[:, 3])"
   ]
  },
  {
   "cell_type": "markdown",
   "metadata": {},
   "source": [
    "### Visualize: Gender"
   ]
  },
  {
   "cell_type": "code",
   "execution_count": 132,
   "metadata": {},
   "outputs": [],
   "source": [
    "men = arranged_votes[arranged_votes[:,2] == 0]\n"
   ]
  },
  {
   "cell_type": "code",
   "execution_count": 133,
   "metadata": {},
   "outputs": [
    {
     "data": {
      "text/plain": [
       "Text(0.5, 1.0, 'Men')"
      ]
     },
     "execution_count": 133,
     "metadata": {},
     "output_type": "execute_result"
    },
    {
     "data": {
      "image/png": "[encoded data removed]",
      "text/plain": [
       "<Figure size 432x288 with 1 Axes>"
      ]
     },
     "metadata": {
      "needs_background": "light"
     },
     "output_type": "display_data"
    }
   ],
   "source": [
    "plt.plot(np.array(men[:,0] / 10).astype(int), (men[:,0] % 10), 'x')\n",
    "plt.title(\"Men\")"
   ]
  },
  {
   "cell_type": "code",
   "execution_count": 134,
   "metadata": {},
   "outputs": [],
   "source": [
    "women = arranged_votes[arranged_votes[:,2] == 1]\n"
   ]
  },
  {
   "cell_type": "code",
   "execution_count": 135,
   "metadata": {},
   "outputs": [
    {
     "data": {
      "text/plain": [
       "Text(0.5, 1.0, 'Women')"
      ]
     },
     "execution_count": 135,
     "metadata": {},
     "output_type": "execute_result"
    },
    {
     "data": {
      "image/png": "[encoded data removed]",
      "text/plain": [
       "<Figure size 432x288 with 1 Axes>"
      ]
     },
     "metadata": {
      "needs_background": "light"
     },
     "output_type": "display_data"
    }
   ],
   "source": [
    "plt.plot(np.array(women[:,0] / 10).astype(int), (women[:,0] % 10), 'x')\n",
    "plt.title(\"Women\")"
   ]
  },
  {
   "cell_type": "code",
   "execution_count": 136,
   "metadata": {},
   "outputs": [
    {
     "data": {
      "text/plain": [
       "<matplotlib.legend.Legend at 0x1c23b3d350>"
      ]
     },
     "execution_count": 136,
     "metadata": {},
     "output_type": "execute_result"
    },
    {
     "data": {
      "image/png": "[encoded data removed]",
      "text/plain": [
       "<Figure size 432x288 with 1 Axes>"
      ]
     },
     "metadata": {
      "needs_background": "light"
     },
     "output_type": "display_data"
    }
   ],
   "source": [
    "plt.plot(np.array(men[:,0] / 10).astype(int), (men[:,0] % 10), 'y.', label=\"Men\")\n",
    "plt.plot(np.array(women[:,0] / 10).astype(int), (women[:,0] % 10), 'b.', label=\"Women\")\n",
    "plt.title(\"Women and Men\")\n",
    "plt.legend()"
   ]
  },
  {
   "cell_type": "markdown",
   "metadata": {},
   "source": [
    "### Visualize: Party"
   ]
  },
  {
   "cell_type": "code",
   "execution_count": 137,
   "metadata": {},
   "outputs": [],
   "source": [
    "party0 = arranged_votes[arranged_votes[:,1] == 0]\n",
    "party1 = arranged_votes[arranged_votes[:,1] == 1]\n",
    "party2 = arranged_votes[arranged_votes[:,1] == 2]\n",
    "party3 = arranged_votes[arranged_votes[:,1] == 3]\n",
    "party4 = arranged_votes[arranged_votes[:,1] == 4]\n",
    "party5 = arranged_votes[arranged_votes[:,1] == 5]\n",
    "party6 = arranged_votes[arranged_votes[:,1] == 6]\n",
    "party7 = arranged_votes[arranged_votes[:,1] == 7]"
   ]
  },
  {
   "cell_type": "code",
   "execution_count": 138,
   "metadata": {},
   "outputs": [
    {
     "data": {
      "text/plain": [
       "[<matplotlib.lines.Line2D at 0x1c23e0c7d0>]"
      ]
     },
     "execution_count": 138,
     "metadata": {},
     "output_type": "execute_result"
    },
    {
     "data": {
      "image/png": "[encoded data removed]",
      "text/plain": [
       "<Figure size 432x288 with 1 Axes>"
      ]
     },
     "metadata": {
      "needs_background": "light"
     },
     "output_type": "display_data"
    }
   ],
   "source": [
    "plt.plot(np.array(party0[:,0] / 10).astype(int), (party0[:,0] % 10), 'x')\n",
    "plt.plot(np.array(party1[:,0] / 10).astype(int), (party1[:,0] % 10), '.')\n",
    "plt.plot(np.array(party2[:,0] / 10).astype(int), (party2[:,0] % 10), ',')\n",
    "plt.plot(np.array(party3[:,0] / 10).astype(int), (party3[:,0] % 10), 'o')\n",
    "plt.plot(np.array(party4[:,0] / 10).astype(int), (party4[:,0] % 10), 'v')\n",
    "plt.plot(np.array(party5[:,0] / 10).astype(int), (party5[:,0] % 10), 's')\n",
    "plt.plot(np.array(party6[:,0] / 10).astype(int), (party6[:,0] % 10), 'p')\n",
    "plt.plot(np.array(party7[:,0] / 10).astype(int), (party7[:,0] % 10), '+')"
   ]
  },
  {
   "cell_type": "markdown",
   "metadata": {},
   "source": [
    "### Visualize: District"
   ]
  },
  {
   "cell_type": "code",
   "execution_count": 139,
   "metadata": {},
   "outputs": [
    {
     "data": {
      "text/html": [
       "<div>\n",
       "<style scoped>\n",
       "    .dataframe tbody tr th:only-of-type {\n",
       "        vertical-align: middle;\n",
       "    }\n",
       "\n",
       "    .dataframe tbody tr th {\n",
       "        vertical-align: top;\n",
       "    }\n",
       "\n",
       "    .dataframe thead th {\n",
       "        text-align: right;\n",
       "    }\n",
       "</style>\n",
       "<table border=\"1\" class=\"dataframe\">\n",
       "  <thead>\n",
       "    <tr style=\"text-align: right;\">\n",
       "      <th></th>\n",
       "      <th>weight_vector</th>\n",
       "      <th>mpparty</th>\n",
       "      <th>mpsex</th>\n",
       "      <th>mpdistrict</th>\n",
       "    </tr>\n",
       "  </thead>\n",
       "  <tbody>\n",
       "    <tr>\n",
       "      <td>0</td>\n",
       "      <td>0</td>\n",
       "      <td>6</td>\n",
       "      <td>0</td>\n",
       "      <td>23</td>\n",
       "    </tr>\n",
       "    <tr>\n",
       "      <td>1</td>\n",
       "      <td>0</td>\n",
       "      <td>6</td>\n",
       "      <td>0</td>\n",
       "      <td>16</td>\n",
       "    </tr>\n",
       "    <tr>\n",
       "      <td>2</td>\n",
       "      <td>2</td>\n",
       "      <td>2</td>\n",
       "      <td>1</td>\n",
       "      <td>1</td>\n",
       "    </tr>\n",
       "    <tr>\n",
       "      <td>3</td>\n",
       "      <td>3</td>\n",
       "      <td>2</td>\n",
       "      <td>0</td>\n",
       "      <td>16</td>\n",
       "    </tr>\n",
       "    <tr>\n",
       "      <td>4</td>\n",
       "      <td>4</td>\n",
       "      <td>2</td>\n",
       "      <td>1</td>\n",
       "      <td>1</td>\n",
       "    </tr>\n",
       "    <tr>\n",
       "      <td>...</td>\n",
       "      <td>...</td>\n",
       "      <td>...</td>\n",
       "      <td>...</td>\n",
       "      <td>...</td>\n",
       "    </tr>\n",
       "    <tr>\n",
       "      <td>344</td>\n",
       "      <td>99</td>\n",
       "      <td>4</td>\n",
       "      <td>0</td>\n",
       "      <td>24</td>\n",
       "    </tr>\n",
       "    <tr>\n",
       "      <td>345</td>\n",
       "      <td>99</td>\n",
       "      <td>4</td>\n",
       "      <td>0</td>\n",
       "      <td>28</td>\n",
       "    </tr>\n",
       "    <tr>\n",
       "      <td>346</td>\n",
       "      <td>99</td>\n",
       "      <td>4</td>\n",
       "      <td>1</td>\n",
       "      <td>2</td>\n",
       "    </tr>\n",
       "    <tr>\n",
       "      <td>347</td>\n",
       "      <td>99</td>\n",
       "      <td>0</td>\n",
       "      <td>1</td>\n",
       "      <td>2</td>\n",
       "    </tr>\n",
       "    <tr>\n",
       "      <td>348</td>\n",
       "      <td>99</td>\n",
       "      <td>4</td>\n",
       "      <td>0</td>\n",
       "      <td>15</td>\n",
       "    </tr>\n",
       "  </tbody>\n",
       "</table>\n",
       "<p>349 rows × 4 columns</p>\n",
       "</div>"
      ],
      "text/plain": [
       "     weight_vector  mpparty  mpsex  mpdistrict\n",
       "0                0        6      0          23\n",
       "1                0        6      0          16\n",
       "2                2        2      1           1\n",
       "3                3        2      0          16\n",
       "4                4        2      1           1\n",
       "..             ...      ...    ...         ...\n",
       "344             99        4      0          24\n",
       "345             99        4      0          28\n",
       "346             99        4      1           2\n",
       "347             99        0      1           2\n",
       "348             99        4      0          15\n",
       "\n",
       "[349 rows x 4 columns]"
      ]
     },
     "execution_count": 139,
     "metadata": {},
     "output_type": "execute_result"
    }
   ],
   "source": [
    "df = pd.DataFrame(data=arranged_votes, columns=['weight_vector', 'mpparty', 'mpsex', 'mpdistrict'])\n",
    "df"
   ]
  },
  {
   "cell_type": "code",
   "execution_count": 141,
   "metadata": {},
   "outputs": [
    {
     "data": {
      "text/html": [
       "<div>\n",
       "<style scoped>\n",
       "    .dataframe tbody tr th:only-of-type {\n",
       "        vertical-align: middle;\n",
       "    }\n",
       "\n",
       "    .dataframe tbody tr th {\n",
       "        vertical-align: top;\n",
       "    }\n",
       "\n",
       "    .dataframe thead th {\n",
       "        text-align: right;\n",
       "    }\n",
       "</style>\n",
       "<table border=\"1\" class=\"dataframe\">\n",
       "  <thead>\n",
       "    <tr style=\"text-align: right;\">\n",
       "      <th></th>\n",
       "      <th>weight_vector</th>\n",
       "      <th>mpdistrict</th>\n",
       "    </tr>\n",
       "  </thead>\n",
       "  <tbody>\n",
       "    <tr>\n",
       "      <td>0</td>\n",
       "      <td>0</td>\n",
       "      <td>23</td>\n",
       "    </tr>\n",
       "    <tr>\n",
       "      <td>1</td>\n",
       "      <td>0</td>\n",
       "      <td>16</td>\n",
       "    </tr>\n",
       "    <tr>\n",
       "      <td>2</td>\n",
       "      <td>2</td>\n",
       "      <td>1</td>\n",
       "    </tr>\n",
       "    <tr>\n",
       "      <td>3</td>\n",
       "      <td>3</td>\n",
       "      <td>16</td>\n",
       "    </tr>\n",
       "    <tr>\n",
       "      <td>4</td>\n",
       "      <td>4</td>\n",
       "      <td>1</td>\n",
       "    </tr>\n",
       "    <tr>\n",
       "      <td>...</td>\n",
       "      <td>...</td>\n",
       "      <td>...</td>\n",
       "    </tr>\n",
       "    <tr>\n",
       "      <td>344</td>\n",
       "      <td>99</td>\n",
       "      <td>24</td>\n",
       "    </tr>\n",
       "    <tr>\n",
       "      <td>345</td>\n",
       "      <td>99</td>\n",
       "      <td>28</td>\n",
       "    </tr>\n",
       "    <tr>\n",
       "      <td>346</td>\n",
       "      <td>99</td>\n",
       "      <td>2</td>\n",
       "    </tr>\n",
       "    <tr>\n",
       "      <td>347</td>\n",
       "      <td>99</td>\n",
       "      <td>2</td>\n",
       "    </tr>\n",
       "    <tr>\n",
       "      <td>348</td>\n",
       "      <td>99</td>\n",
       "      <td>15</td>\n",
       "    </tr>\n",
       "  </tbody>\n",
       "</table>\n",
       "<p>349 rows × 2 columns</p>\n",
       "</div>"
      ],
      "text/plain": [
       "     weight_vector  mpdistrict\n",
       "0                0          23\n",
       "1                0          16\n",
       "2                2           1\n",
       "3                3          16\n",
       "4                4           1\n",
       "..             ...         ...\n",
       "344             99          24\n",
       "345             99          28\n",
       "346             99           2\n",
       "347             99           2\n",
       "348             99          15\n",
       "\n",
       "[349 rows x 2 columns]"
      ]
     },
     "execution_count": 141,
     "metadata": {},
     "output_type": "execute_result"
    }
   ],
   "source": [
    "df_district = df.drop(['mpparty','mpsex'], axis=1)\n",
    "df_district"
   ]
  },
  {
   "cell_type": "code",
   "execution_count": 142,
   "metadata": {},
   "outputs": [
    {
     "name": "stdout",
     "output_type": "stream",
     "text": [
      "mpdistrict  weight_vector\n",
      "1           2                1\n",
      "            4                1\n",
      "            7                9\n",
      "            11               1\n",
      "            15               3\n",
      "                            ..\n",
      "29          15               1\n",
      "            20               1\n",
      "            68               1\n",
      "            80               1\n",
      "            99               1\n",
      "Length: 239, dtype: int64\n"
     ]
    }
   ],
   "source": [
    "print(df_district.groupby(['mpdistrict','weight_vector']).size())"
   ]
  },
  {
   "cell_type": "code",
   "execution_count": 143,
   "metadata": {},
   "outputs": [
    {
     "data": {
      "text/plain": [
       "mpdistrict  weight_vector\n",
       "1           2                1\n",
       "            4                1\n",
       "            7                9\n",
       "            11               1\n",
       "            15               3\n",
       "                            ..\n",
       "29          15               1\n",
       "            20               1\n",
       "            68               1\n",
       "            80               1\n",
       "            99               1\n",
       "Length: 239, dtype: int64"
      ]
     },
     "execution_count": 143,
     "metadata": {},
     "output_type": "execute_result"
    }
   ],
   "source": [
    "#pd.set_option('display.max_rows', None)\n",
    "df_district.groupby(['mpdistrict','weight_vector']).size()"
   ]
  },
  {
   "cell_type": "code",
   "execution_count": null,
   "metadata": {},
   "outputs": [],
   "source": []
  },
  {
   "cell_type": "markdown",
   "metadata": {},
   "source": [
    "#### Plot Grid\n",
    "\n",
    "*Where are the different parties located? Do they reflect the traditional left-right scale? Is there a second dimension? Which parties are far apart from each other or close? \n",
    "\n",
    "---"
   ]
  },
  {
   "cell_type": "code",
   "execution_count": null,
   "metadata": {},
   "outputs": [],
   "source": []
  }
 ],
 "metadata": {
  "kernelspec": {
   "display_name": "Python 3",
   "language": "python",
   "name": "python3"
  },
  "language_info": {
   "codemirror_mode": {
    "name": "ipython",
    "version": 3
   },
   "file_extension": ".py",
   "mimetype": "text/x-python",
   "name": "python",
   "nbconvert_exporter": "python",
   "pygments_lexer": "ipython3",
   "version": "3.7.9"
  },
  "latex_envs": {
   "LaTeX_envs_menu_present": true,
   "autoclose": true,
   "autocomplete": true,
   "bibliofile": "biblio.bib",
   "cite_by": "apalike",
   "current_citInitial": 1,
   "eqLabelWithNumbers": true,
   "eqNumInitial": 1,
   "hotkeys": {
    "equation": "Ctrl-E",
    "itemize": "Ctrl-I"
   },
   "labels_anchors": false,
   "latex_user_defs": false,
   "report_style_numbering": false,
   "user_envs_cfg": false
  },
  "toc": {
   "base_numbering": "3",
   "nav_menu": {},
   "number_sections": true,
   "sideBar": true,
   "skip_h1_title": true,
   "title_cell": "Table of Contents",
   "title_sidebar": "Contents",
   "toc_cell": false,
   "toc_position": {
    "height": "calc(100% - 180px)",
    "left": "10px",
    "top": "150px",
    "width": "336px"
   },
   "toc_section_display": true,
   "toc_window_display": true
  }
 },
 "nbformat": 4,
 "nbformat_minor": 4
}
